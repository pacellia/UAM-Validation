{
 "cells": [
  {
   "cell_type": "markdown",
   "id": "8bde7be1",
   "metadata": {},
   "source": [
    "# UAM Validation 02 — Deterministic SN Runs (No MCMC)\n",
    "Load curated Pantheon+ from GoldenMaster/data_curated/ and fixed config from GoldenMaster/configs/run_config.json. Compute marginalized χ² and summary.\n"
   ]
  },
  {
   "cell_type": "code",
   "execution_count": null,
   "id": "b3b7a1f2",
   "metadata": {},
   "outputs": [],
   "source": [
    "# Bootstrap imports and paths\n",
    "from pathlib import Path\n",
    "import json, numpy as np, pandas as pd\n",
    "BASE = Path('/content/notebook')\n",
    "GM = BASE/'GoldenMaster'\n",
    "VAL = BASE/'UAM_validations'\n",
    "print('[env] BASE=', BASE)\n"
   ]
  }
 ],
 "metadata": {},
 "nbformat": 4,
 "nbformat_minor": 5
}
