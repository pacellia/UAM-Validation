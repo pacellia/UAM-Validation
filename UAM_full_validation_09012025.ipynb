{
 "cells": [
  {
   "cell_type": "markdown",
   "id": "845a3cb8",
   "metadata": {},
   "source": [
    "# UAM Full Validation — 2025-09-01"
   ]
  },
  {
   "cell_type": "code",
   "execution_count": null,
   "id": "b116c118",
   "metadata": {},
   "outputs": [],
   "source": [
    "%run UAM_validations/notebooks/UAM_validation_04_compare_AIC_BIC.ipynb"
   ]
  }
 ],
 "metadata": {
  "kernelspec": {
   "display_name": "Python 3",
   "language": "python",
   "name": "python3"
  }
 },
 "nbformat": 4,
 "nbformat_minor": 5
}
