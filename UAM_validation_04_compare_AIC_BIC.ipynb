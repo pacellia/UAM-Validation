{
 "cells": [
  {
   "cell_type": "markdown",
   "id": "386a9325",
   "metadata": {},
   "source": [
    "# UAM Validation 04 — Compare AIC/BIC\n",
    "Load summaries from 02 and 03 and produce the comparison table and plots.\n"
   ]
  },
  {
   "cell_type": "code",
   "execution_count": null,
   "id": "fa87ee3c",
   "metadata": {},
   "outputs": [],
   "source": [
    "# Bootstrap imports and paths\n",
    "from pathlib import Path\n",
    "import json, numpy as np, pandas as pd\n",
    "BASE = Path('/content/notebook')\n",
    "GM = BASE/'GoldenMaster'\n",
    "VAL = BASE/'UAM_validations'\n",
    "print('[env] BASE=', BASE)\n"
   ]
  }
 ],
 "metadata": {},
 "nbformat": 4,
 "nbformat_minor": 5
}
