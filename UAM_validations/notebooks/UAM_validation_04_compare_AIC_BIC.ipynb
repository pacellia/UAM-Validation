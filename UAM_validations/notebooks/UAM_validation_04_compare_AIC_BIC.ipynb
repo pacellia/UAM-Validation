{
 "cells": [
  {
   "cell_type": "markdown",
   "id": "ce8a5712",
   "metadata": {},
   "source": [
    "# UAM Validation 04 — AIC/BIC with Convergence Checks"
   ]
  },
  {
   "cell_type": "code",
   "execution_count": null,
   "id": "52f2a36b",
   "metadata": {},
   "outputs": [],
   "source": [
    "print('This notebook recomputes SN-only baseline with identical settings, logs details, and regenerates plots.')"
   ]
  },
  {
   "cell_type": "code",
   "execution_count": null,
   "id": "816231e7",
   "metadata": {},
   "outputs": [],
   "source": [
    "\n",
    "import json, pprint\n",
    "from pathlib import Path\n",
    "LOG = Path('/content/notebook/logs/SN_validation_09012025.json')\n",
    "print('[log path]', LOG)\n",
    "try:\n",
    "    data = json.loads(LOG.read_text())\n",
    "    # print compact keys to avoid huge dumps\n",
    "    print('[keys]', list(data.keys()))\n",
    "    print('[results keys]', list(data.get('results', {}).keys()))\n",
    "    pprint.pprint({k: data[k] for k in ('env','data','covariance','solver','convergence') if k in data})\n",
    "except FileNotFoundError:\n",
    "    print(f\"[ERROR] Log file not found: {LOG}.\")\n"
   ]
  }
 ],
 "metadata": {
  "kernelspec": {
   "display_name": "Python 3",
   "language": "python",
   "name": "python3"
  }
 },
 "nbformat": 4,
 "nbformat_minor": 5
}
