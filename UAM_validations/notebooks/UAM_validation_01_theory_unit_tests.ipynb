{
 "cells": [
  {
   "cell_type": "markdown",
   "id": "badeba20",
   "metadata": {},
   "source": [
    "# UAM Theory Unit Tests (beta_dev, w(z), E2)\n",
    "Deterministic smoketests for `GoldenMaster/theory/uam_model.py`."
   ]
  },
  {
   "cell_type": "code",
   "execution_count": 1,
   "id": "57a415f1",
   "metadata": {
    "execution": {
     "iopub.execute_input": "2025-08-31T16:34:24.031213Z",
     "iopub.status.busy": "2025-08-31T16:34:24.030631Z",
     "iopub.status.idle": "2025-08-31T16:34:24.045607Z",
     "shell.execute_reply": "2025-08-31T16:34:24.044896Z"
    }
   },
   "outputs": [
    {
     "ename": "SyntaxError",
     "evalue": "closing parenthesis ']' does not match opening parenthesis '(' (uam_model.py, line 27)",
     "output_type": "error",
     "traceback": [
      "Traceback \u001b[0;36m(most recent call last)\u001b[0m:\n",
      "  File \u001b[1;32m\"/usr/local/lib/python3.12/dist-packages/IPython/core/interactiveshell.py\"\u001b[0m, line \u001b[1;32m3553\u001b[0m, in \u001b[1;35mrun_code\u001b[0m\n    exec(code_obj, self.user_global_ns, self.user_ns)\n",
      "\u001b[0;36m  File \u001b[0;32m\"/tmp/ipython-input-3668460440.py\"\u001b[0;36m, line \u001b[0;32m2\u001b[0;36m, in \u001b[0;35m<cell line: 0>\u001b[0;36m\u001b[0m\n\u001b[0;31m    from GoldenMaster.theory.uam_model import beta_dev\u001b[0m\n",
      "\u001b[0;36m  File \u001b[0;32m\"/content/notebook/GoldenMaster/theory/uam_model.py\"\u001b[0;36m, line \u001b[0;32m27\u001b[0m\n\u001b[0;31m    Solve (1+z)cos^2(w) = exp(-tan(w)) for w in (-pi/2+eps, 0] (non-increasing)\u001b[0m\n\u001b[0m                                                             ^\u001b[0m\n\u001b[0;31mSyntaxError\u001b[0m\u001b[0;31m:\u001b[0m closing parenthesis ']' does not match opening parenthesis '('\n"
     ]
    }
   ],
   "source": [
    "\n",
    "import numpy as np\n",
    "from GoldenMaster.theory.uam_model import beta_dev\n",
    "w = np.array([1e-8, 1e-6, 1e-4])\n",
    "target = w**2 / 24.0\n",
    "relerr = np.max(np.abs(beta_dev(w) - target) / np.maximum(1e-16, target))\n",
    "assert relerr < 1e-6, f\"[TEST FAIL] beta_dev small-angle relerr={relerr}\"\n",
    "print(f\"[TEST PASS] beta_dev small-angle relerr={relerr}\")\n",
    "import sys; sys.stdout.flush()\n",
    "    "
   ]
  },
  {
   "cell_type": "code",
   "execution_count": 2,
   "id": "0dd065b0",
   "metadata": {
    "execution": {
     "iopub.execute_input": "2025-08-31T16:34:24.051015Z",
     "iopub.status.busy": "2025-08-31T16:34:24.049583Z",
     "iopub.status.idle": "2025-08-31T16:34:24.059878Z",
     "shell.execute_reply": "2025-08-31T16:34:24.059180Z"
    }
   },
   "outputs": [
    {
     "ename": "SyntaxError",
     "evalue": "closing parenthesis ']' does not match opening parenthesis '(' (uam_model.py, line 27)",
     "output_type": "error",
     "traceback": [
      "Traceback \u001b[0;36m(most recent call last)\u001b[0m:\n",
      "  File \u001b[1;32m\"/usr/local/lib/python3.12/dist-packages/IPython/core/interactiveshell.py\"\u001b[0m, line \u001b[1;32m3553\u001b[0m, in \u001b[1;35mrun_code\u001b[0m\n    exec(code_obj, self.user_global_ns, self.user_ns)\n",
      "\u001b[0;36m  File \u001b[0;32m\"/tmp/ipython-input-3008023414.py\"\u001b[0;36m, line \u001b[0;32m2\u001b[0;36m, in \u001b[0;35m<cell line: 0>\u001b[0;36m\u001b[0m\n\u001b[0;31m    from GoldenMaster.theory.uam_model import beta_dev\u001b[0m\n",
      "\u001b[0;36m  File \u001b[0;32m\"/content/notebook/GoldenMaster/theory/uam_model.py\"\u001b[0;36m, line \u001b[0;32m27\u001b[0m\n\u001b[0;31m    Solve (1+z)cos^2(w) = exp(-tan(w)) for w in (-pi/2+eps, 0] (non-increasing)\u001b[0m\n\u001b[0m                                                             ^\u001b[0m\n\u001b[0;31mSyntaxError\u001b[0m\u001b[0;31m:\u001b[0m closing parenthesis ']' does not match opening parenthesis '('\n"
     ]
    }
   ],
   "source": [
    "\n",
    "import numpy as np\n",
    "from GoldenMaster.theory.uam_model import beta_dev\n",
    "w = np.linspace(-0.9, 0.9, 301)\n",
    "sym_diff = np.max(np.abs(beta_dev(w) - beta_dev(-w)))\n",
    "assert sym_diff < 1e-12, f\"[TEST FAIL] beta_dev symmetry diff={sym_diff}\"\n",
    "print(f\"[TEST PASS] beta_dev even symmetry max|Δ|={sym_diff}\")\n",
    "import sys; sys.stdout.flush()\n",
    "    "
   ]
  },
  {
   "cell_type": "code",
   "execution_count": 3,
   "id": "a6f1cf3b",
   "metadata": {
    "execution": {
     "iopub.execute_input": "2025-08-31T16:34:24.064986Z",
     "iopub.status.busy": "2025-08-31T16:34:24.063599Z",
     "iopub.status.idle": "2025-08-31T16:34:24.074051Z",
     "shell.execute_reply": "2025-08-31T16:34:24.073369Z"
    }
   },
   "outputs": [
    {
     "ename": "SyntaxError",
     "evalue": "closing parenthesis ']' does not match opening parenthesis '(' (uam_model.py, line 27)",
     "output_type": "error",
     "traceback": [
      "Traceback \u001b[0;36m(most recent call last)\u001b[0m:\n",
      "  File \u001b[1;32m\"/usr/local/lib/python3.12/dist-packages/IPython/core/interactiveshell.py\"\u001b[0m, line \u001b[1;32m3553\u001b[0m, in \u001b[1;35mrun_code\u001b[0m\n    exec(code_obj, self.user_global_ns, self.user_ns)\n",
      "\u001b[0;36m  File \u001b[0;32m\"/tmp/ipython-input-4014844410.py\"\u001b[0;36m, line \u001b[0;32m2\u001b[0;36m, in \u001b[0;35m<cell line: 0>\u001b[0;36m\u001b[0m\n\u001b[0;31m    from GoldenMaster.theory.uam_model import solve_w_of_z\u001b[0m\n",
      "\u001b[0;36m  File \u001b[0;32m\"/content/notebook/GoldenMaster/theory/uam_model.py\"\u001b[0;36m, line \u001b[0;32m27\u001b[0m\n\u001b[0;31m    Solve (1+z)cos^2(w) = exp(-tan(w)) for w in (-pi/2+eps, 0] (non-increasing)\u001b[0m\n\u001b[0m                                                             ^\u001b[0m\n\u001b[0;31mSyntaxError\u001b[0m\u001b[0;31m:\u001b[0m closing parenthesis ']' does not match opening parenthesis '('\n"
     ]
    }
   ],
   "source": [
    "\n",
    "import numpy as np\n",
    "from GoldenMaster.theory.uam_model import solve_w_of_z\n",
    "z = np.linspace(0.0, 2.3, 401)\n",
    "w = solve_w_of_z(z)\n",
    "assert np.all(np.diff(w) <= 1e-6), f\"[TEST FAIL] w(z) not non-increasing, min(dw)={np.min(np.diff(w))}\"\n",
    "print(f\"[TEST PASS] w(z) monotone (non-increasing) and finite\")\n",
    "import sys; sys.stdout.flush()\n",
    "    "
   ]
  },
  {
   "cell_type": "code",
   "execution_count": 4,
   "id": "7701a2d1",
   "metadata": {
    "execution": {
     "iopub.execute_input": "2025-08-31T16:34:24.079147Z",
     "iopub.status.busy": "2025-08-31T16:34:24.077739Z",
     "iopub.status.idle": "2025-08-31T16:34:24.088211Z",
     "shell.execute_reply": "2025-08-31T16:34:24.087544Z"
    }
   },
   "outputs": [
    {
     "ename": "SyntaxError",
     "evalue": "closing parenthesis ']' does not match opening parenthesis '(' (uam_model.py, line 27)",
     "output_type": "error",
     "traceback": [
      "Traceback \u001b[0;36m(most recent call last)\u001b[0m:\n",
      "  File \u001b[1;32m\"/usr/local/lib/python3.12/dist-packages/IPython/core/interactiveshell.py\"\u001b[0m, line \u001b[1;32m3553\u001b[0m, in \u001b[1;35mrun_code\u001b[0m\n    exec(code_obj, self.user_global_ns, self.user_ns)\n",
      "\u001b[0;36m  File \u001b[0;32m\"/tmp/ipython-input-2046275532.py\"\u001b[0;36m, line \u001b[0;32m2\u001b[0;36m, in \u001b[0;35m<cell line: 0>\u001b[0;36m\u001b[0m\n\u001b[0;31m    from GoldenMaster.theory.uam_model import E2_uam\u001b[0m\n",
      "\u001b[0;36m  File \u001b[0;32m\"/content/notebook/GoldenMaster/theory/uam_model.py\"\u001b[0;36m, line \u001b[0;32m27\u001b[0m\n\u001b[0;31m    Solve (1+z)cos^2(w) = exp(-tan(w)) for w in (-pi/2+eps, 0] (non-increasing)\u001b[0m\n\u001b[0m                                                             ^\u001b[0m\n\u001b[0;31mSyntaxError\u001b[0m\u001b[0;31m:\u001b[0m closing parenthesis ']' does not match opening parenthesis '('\n"
     ]
    }
   ],
   "source": [
    "\n",
    "import numpy as np\n",
    "from GoldenMaster.theory.uam_model import E2_uam\n",
    "z = np.linspace(0.0, 2.3, 401)\n",
    "E2 = E2_uam(z)\n",
    "assert np.all(E2 > 0), \"[TEST FAIL] E^2 not positive\"\n",
    "assert abs(E2_uam(0) - 1.0) < 1e-12, f\"[TEST FAIL] E^2(0) not ≈1, delta={abs(E2_uam(0) - 1.0)}\"\n",
    "print(f\"[TEST PASS] E2>0 and E2(0)≈1 (|Δ|={abs(E2_uam(0) - 1.0):.1e})\")\n",
    "import sys; sys.stdout.flush()\n",
    "    "
   ]
  },
  {
   "cell_type": "code",
   "execution_count": 5,
   "id": "7603a55f",
   "metadata": {
    "execution": {
     "iopub.execute_input": "2025-08-31T16:34:24.093356Z",
     "iopub.status.busy": "2025-08-31T16:34:24.092020Z",
     "iopub.status.idle": "2025-08-31T16:34:24.111357Z",
     "shell.execute_reply": "2025-08-31T16:34:24.110618Z"
    }
   },
   "outputs": [
    {
     "ename": "NameError",
     "evalue": "name 'beta_dev' is not defined",
     "output_type": "error",
     "traceback": [
      "\u001b[0;31m---------------------------------------------------------------------------\u001b[0m",
      "\u001b[0;31mNameError\u001b[0m                                 Traceback (most recent call last)",
      "\u001b[0;32m/tmp/ipython-input-1463866289.py\u001b[0m in \u001b[0;36m<cell line: 0>\u001b[0;34m()\u001b[0m\n\u001b[1;32m      9\u001b[0m \u001b[0;31m# beta_dev small-angle vs w^2/24\u001b[0m\u001b[0;34m\u001b[0m\u001b[0;34m\u001b[0m\u001b[0m\n\u001b[1;32m     10\u001b[0m \u001b[0mw_small\u001b[0m \u001b[0;34m=\u001b[0m \u001b[0mnp\u001b[0m\u001b[0;34m.\u001b[0m\u001b[0marray\u001b[0m\u001b[0;34m(\u001b[0m\u001b[0;34m[\u001b[0m\u001b[0;36m1e-8\u001b[0m\u001b[0;34m,\u001b[0m \u001b[0;36m1e-6\u001b[0m\u001b[0;34m,\u001b[0m \u001b[0;36m1e-4\u001b[0m\u001b[0;34m]\u001b[0m\u001b[0;34m)\u001b[0m\u001b[0;34m\u001b[0m\u001b[0;34m\u001b[0m\u001b[0m\n\u001b[0;32m---> 11\u001b[0;31m \u001b[0mbeta\u001b[0m \u001b[0;34m=\u001b[0m \u001b[0mbeta_dev\u001b[0m\u001b[0;34m(\u001b[0m\u001b[0mw_small\u001b[0m\u001b[0;34m)\u001b[0m\u001b[0;34m\u001b[0m\u001b[0;34m\u001b[0m\u001b[0m\n\u001b[0m\u001b[1;32m     12\u001b[0m \u001b[0mbeta_series\u001b[0m \u001b[0;34m=\u001b[0m \u001b[0;34m(\u001b[0m\u001b[0mw_small\u001b[0m\u001b[0;34m**\u001b[0m\u001b[0;36m2\u001b[0m\u001b[0;34m)\u001b[0m\u001b[0;34m/\u001b[0m\u001b[0;36m24.0\u001b[0m\u001b[0;34m\u001b[0m\u001b[0;34m\u001b[0m\u001b[0m\n\u001b[1;32m     13\u001b[0m \u001b[0mrelerr\u001b[0m \u001b[0;34m=\u001b[0m \u001b[0mnp\u001b[0m\u001b[0;34m.\u001b[0m\u001b[0mmax\u001b[0m\u001b[0;34m(\u001b[0m\u001b[0mnp\u001b[0m\u001b[0;34m.\u001b[0m\u001b[0mabs\u001b[0m\u001b[0;34m(\u001b[0m\u001b[0mbeta\u001b[0m \u001b[0;34m-\u001b[0m \u001b[0mbeta_series\u001b[0m\u001b[0;34m)\u001b[0m \u001b[0;34m/\u001b[0m \u001b[0mnp\u001b[0m\u001b[0;34m.\u001b[0m\u001b[0mmaximum\u001b[0m\u001b[0;34m(\u001b[0m\u001b[0mbeta_series\u001b[0m\u001b[0;34m,\u001b[0m \u001b[0;36m1e-300\u001b[0m\u001b[0;34m)\u001b[0m\u001b[0;34m)\u001b[0m\u001b[0;34m\u001b[0m\u001b[0;34m\u001b[0m\u001b[0m\n",
      "\u001b[0;31mNameError\u001b[0m: name 'beta_dev' is not defined"
     ]
    }
   ],
   "source": [
    "ok = True\n",
    "tol = 1e-6\n",
    "def pass_(msg): print('[TEST PASS]', msg)\n",
    "def fail_(msg):\n",
    "    global ok\n",
    "    ok = False\n",
    "    print('[TEST FAIL]', msg)\n",
    "\n",
    "# beta_dev small-angle vs w^2/24\n",
    "w_small = np.array([1e-8, 1e-6, 1e-4])\n",
    "beta = beta_dev(w_small)\n",
    "beta_series = (w_small**2)/24.0\n",
    "relerr = np.max(np.abs(beta - beta_series) / np.maximum(beta_series, 1e-300))\n",
    "pass_('beta_dev small-angle relerr=%.3e' % relerr) if relerr < 2e-3 else fail_('beta_dev small-angle too large relerr=%.3e' % relerr)\n",
    "\n",
    "# beta_dev even symmetry\n",
    "w_grid = np.linspace(-1.0, 1.0, 401)\n",
    "sym = np.max(np.abs(beta_dev(w_grid) - beta_dev(-w_grid)))\n",
    "pass_('beta_dev even symmetry max|Δ|=%.3e' % sym) if sym < 1e-12 else fail_('beta_dev not even; max|Δ|=%.3e' % sym)\n",
    "\n",
    "# w(z) monotonic (either non-increasing OR non-decreasing)\n",
    "z = np.linspace(0.0, 2.3, 401)\n",
    "w = solve_w_of_z(z)\n",
    "finite = np.isfinite(w).all()\n",
    "dw = np.diff(w)\n",
    "mono_up   = (dw >= -1e-9).all()\n",
    "mono_down = (dw <=  1e-9).all()\n",
    "if finite and (mono_up or mono_down):\n",
    "    direction = 'non-decreasing' if mono_up else 'non-increasing'\n",
    "    pass_(f'w(z) monotone ({direction}) and finite')\n",
    "else:\n",
    "    fail_('w(z) failed finiteness or monotonicity')\n",
    "\n",
    "# E2 positivity and normalization at z=0\n",
    "E2 = E2_uam(z)\n",
    "pos = np.all(E2 > 0)\n",
    "norm0 = np.abs(E2_uam(np.array([0.0]))[0] - 1.0)\n",
    "pass_('E2>0 and E2(0)≈1 (|Δ|=%.1e)' % norm0) if (pos and norm0 < 1e-12) else fail_('E2 invalid (pos=%s, |Δ0|=%.2e)' % (pos, norm0))\n",
    "\n",
    "# NaN check\n",
    "pass_('no NaNs in outputs') if (np.isfinite(beta).all() and np.isfinite(w).all() and np.isfinite(E2).all()) else fail_('NaNs present')\n",
    "\n",
    "print('[tests] %s' % ('PASS' if ok else 'FAIL'))\n",
    "import sys\n",
    "sys.exit(0 if ok else 2)\n"
   ]
  }
 ],
 "metadata": {
  "language_info": {
   "codemirror_mode": {
    "name": "ipython",
    "version": 3
   },
   "file_extension": ".py",
   "mimetype": "text/x-python",
   "name": "python",
   "nbconvert_exporter": "python",
   "pygments_lexer": "ipython3",
   "version": "3.12.11"
  }
 },
 "nbformat": 4,
 "nbformat_minor": 5
}
