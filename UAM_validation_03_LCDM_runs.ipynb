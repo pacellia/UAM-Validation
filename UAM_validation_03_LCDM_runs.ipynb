{
 "cells": [
  {
   "cell_type": "markdown",
   "id": "db84136a",
   "metadata": {},
   "source": [
    "# UAM Validation 03 — ΛCDM SN Baseline\n",
    "Compute ΛCDM SN-only baseline with identical data/marginalization and record AIC/BIC.\n"
   ]
  },
  {
   "cell_type": "code",
   "execution_count": null,
   "id": "4756c0e9",
   "metadata": {},
   "outputs": [],
   "source": [
    "# Bootstrap imports and paths\n",
    "from pathlib import Path\n",
    "import json, numpy as np, pandas as pd\n",
    "BASE = Path('/content/notebook')\n",
    "GM = BASE/'GoldenMaster'\n",
    "VAL = BASE/'UAM_validations'\n",
    "print('[env] BASE=', BASE)\n"
   ]
  }
 ],
 "metadata": {},
 "nbformat": 4,
 "nbformat_minor": 5
}
