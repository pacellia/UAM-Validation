{
 "cells": [
  {
   "cell_type": "markdown",
   "id": "f8c99451",
   "metadata": {},
   "source": [
    "# UAM Validation 01 — Theory Tests\n",
    "β_dev(w) = |1 - 2 sin(w/2)/w| (β_dev(0)=0, ~w^2/24)\n",
    "w(z) solves (1+z) cos^2 w = exp(-tan w) in (-π/2+ε, π/2-ε).\n",
    "Include unit tests for symmetry, monotonicity, and distance sanity.\n"
   ]
  },
  {
   "cell_type": "code",
   "execution_count": null,
   "id": "64e2859b",
   "metadata": {},
   "outputs": [],
   "source": [
    "# Bootstrap imports and paths\n",
    "from pathlib import Path\n",
    "import json, numpy as np, pandas as pd\n",
    "BASE = Path('/content/notebook')\n",
    "GM = BASE/'GoldenMaster'\n",
    "VAL = BASE/'UAM_validations'\n",
    "print('[env] BASE=', BASE)\n"
   ]
  }
 ],
 "metadata": {},
 "nbformat": 4,
 "nbformat_minor": 5
}
